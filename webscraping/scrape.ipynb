{
 "cells": [
  {
   "cell_type": "code",
   "execution_count": 13,
   "metadata": {},
   "outputs": [],
   "source": [
    "from bs4 import BeautifulSoup\n",
    "import pandas as pd\n",
    "import os\n"
   ]
  },
  {
   "cell_type": "code",
   "execution_count": 14,
   "metadata": {},
   "outputs": [],
   "source": [
    "page = 'page.txt'"
   ]
  },
  {
   "cell_type": "code",
   "execution_count": 15,
   "metadata": {},
   "outputs": [],
   "source": [
    "with open (page, 'r', encoding='utf-8') as page:\n",
    "    conteudo_html = page.read()"
   ]
  },
  {
   "cell_type": "code",
   "execution_count": 16,
   "metadata": {},
   "outputs": [
    {
     "name": "stdout",
     "output_type": "stream",
     "text": [
      "Lorem Ipsum\n",
      "Lorem Ipsum\n",
      "Lorem Ipsum\n",
      "Lorem Ipsum\n",
      "Lorem Ipsum\n",
      "Lorem Ipsum\n",
      "Lorem Ipsum\n",
      "Lorem Ipsum\n",
      "Lorem Ipsum\n",
      "Lorem Ipsum\n"
     ]
    }
   ],
   "source": [
    "soup = BeautifulSoup(conteudo_html, 'html.parser')\n",
    "caixa = soup.find_all('div', class_='item d-md-flex justify-content-between')\n",
    "\n",
    "elementos = soup.find_all('div', class_='item-profissional-info')\n",
    "\n",
    "from bs4 import BeautifulSoup\n",
    "\n",
    "\n",
    "elementos = soup.find_all('div', class_='item-profissional-info')\n",
    "\n",
    "profissionais = []\n",
    "\n",
    "for elemento in elementos:\n",
    "    name = elemento.find('h4', class_='item-profissional-title').get_text(strip=True)\n",
    "    print(name)\n",
    "    infos = elemento.find_all('span', class_='font-weight-medium')\n",
    "    inscricao = infos[0].get_text(strip=True) if len(infos) > 0 else 'Não disponível'\n",
    "    situação = infos[1].get_text(strip=True) if len(infos) > 1 else 'Não disponível'\n",
    "    especialidade = infos[4].get_text(strip=True) if len(infos) > 4 else 'Não disponível'\n",
    "\n",
    "\n",
    "    profissionais.append({\n",
    "        'Nome': name,\n",
    "        'Inscrição': inscricao,\n",
    "        'Situação': situação,\n",
    "        'Especialidade': especialidade\n",
    "    })\n",
    "\n",
    "# Criando um DataFrame com os dados coletados\n",
    "df_profissionais = pd.DataFrame(profissionais)\n",
    "\n",
    "arquivo_existe = os.path.isfile('profissionais.csv')\n",
    "\n",
    "\n",
    "# Salvando o DataFrame em um arquivo CSV\n",
    "df_profissionais.to_csv('profissionais.csv', mode='a', index=False, header=not arquivo_existe, encoding='utf-8')\n",
    "\n",
    "\n"
   ]
  },
  {
   "cell_type": "code",
   "execution_count": null,
   "metadata": {},
   "outputs": [],
   "source": []
  },
  {
   "cell_type": "code",
   "execution_count": null,
   "metadata": {},
   "outputs": [],
   "source": []
  },
  {
   "cell_type": "code",
   "execution_count": null,
   "metadata": {},
   "outputs": [],
   "source": []
  }
 ],
 "metadata": {
  "kernelspec": {
   "display_name": "Python 3",
   "language": "python",
   "name": "python3"
  },
  "language_info": {
   "codemirror_mode": {
    "name": "ipython",
    "version": 3
   },
   "file_extension": ".py",
   "mimetype": "text/x-python",
   "name": "python",
   "nbconvert_exporter": "python",
   "pygments_lexer": "ipython3",
   "version": "3.8.2"
  }
 },
 "nbformat": 4,
 "nbformat_minor": 2
}
